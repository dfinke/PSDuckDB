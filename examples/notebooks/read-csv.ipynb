{
 "cells": [
  {
   "cell_type": "code",
   "execution_count": 1,
   "metadata": {
    "dotnet_interactive": {
     "language": "pwsh"
    },
    "polyglot_notebook": {
     "kernelName": "pwsh"
    }
   },
   "outputs": [
    {
     "name": "stdout",
     "output_type": "stream",
     "text": [
      "\n",
      "\u001b[32;1mRegion\u001b[0m\u001b[32;1m State    \u001b[0m\u001b[32;1m Units\u001b[0m\u001b[32;1m   Price\u001b[0m\u001b[32;1m Tag   \u001b[0m\u001b[32;1m Source\u001b[0m\n",
      "\u001b[32;1m------\u001b[0m \u001b[32;1m-----    \u001b[0m \u001b[32;1m-----\u001b[0m \u001b[32;1m  -----\u001b[0m \u001b[32;1m---   \u001b[0m \u001b[32;1m------\u001b[0m\n",
      "West   Texas       927 923.710 Sales1 csv\n",
      "North  Tennessee   466 770.670 Sales1 csv\n",
      "East   Florida     520 458.680 Sales1 csv\n",
      "East   Maine       828 661.240 Sales1 csv\n",
      "\n"
     ]
    }
   ],
   "source": [
    "psduckdb -command \"SELECT * FROM '$pwd\\..\\..\\data\\csv\\sample\\sales1.csv';\" | Format-Table"
   ]
  },
  {
   "cell_type": "code",
   "execution_count": 2,
   "metadata": {
    "dotnet_interactive": {
     "language": "pwsh"
    },
    "polyglot_notebook": {
     "kernelName": "pwsh"
    }
   },
   "outputs": [],
   "source": [
    "$db = New-DuckDBConnection"
   ]
  },
  {
   "cell_type": "code",
   "execution_count": 3,
   "metadata": {
    "dotnet_interactive": {
     "language": "pwsh"
    },
    "polyglot_notebook": {
     "kernelName": "pwsh"
    }
   },
   "outputs": [
    {
     "name": "stdout",
     "output_type": "stream",
     "text": [
      "\n",
      "\u001b[32;1mRegion\u001b[0m\u001b[32;1m State    \u001b[0m\u001b[32;1m Units\u001b[0m\u001b[32;1m   Price\u001b[0m\u001b[32;1m Tag   \u001b[0m\u001b[32;1m Source\u001b[0m\n",
      "\u001b[32;1m------\u001b[0m \u001b[32;1m-----    \u001b[0m \u001b[32;1m-----\u001b[0m \u001b[32;1m  -----\u001b[0m \u001b[32;1m---   \u001b[0m \u001b[32;1m------\u001b[0m\n",
      "West   Texas       927 923.710 Sales1 csv\n",
      "North  Tennessee   466 770.670 Sales1 csv\n",
      "East   Florida     520 458.680 Sales1 csv\n",
      "East   Maine       828 661.240 Sales1 csv\n",
      "\n"
     ]
    }
   ],
   "source": [
    "$db.sql(\"SELECT * FROM '$pwd\\..\\..\\data\\csv\\sample\\sales1.csv';\") | Format-Table\n"
   ]
  },
  {
   "cell_type": "code",
   "execution_count": 4,
   "metadata": {
    "dotnet_interactive": {
     "language": "pwsh"
    },
    "polyglot_notebook": {
     "kernelName": "pwsh"
    }
   },
   "outputs": [],
   "source": [
    "$db.CloseDB()"
   ]
  }
 ],
 "metadata": {
  "kernelspec": {
   "display_name": ".NET (C#)",
   "language": "C#",
   "name": ".net-csharp"
  },
  "polyglot_notebook": {
   "kernelInfo": {
    "defaultKernelName": "csharp",
    "items": [
     {
      "aliases": [],
      "name": "csharp"
     },
     {
      "aliases": [],
      "languageName": "pwsh",
      "name": "pwsh"
     }
    ]
   }
  }
 },
 "nbformat": 4,
 "nbformat_minor": 2
}
